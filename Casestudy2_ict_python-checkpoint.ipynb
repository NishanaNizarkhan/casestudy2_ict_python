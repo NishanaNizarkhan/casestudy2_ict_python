{
 "cells": [
  {
   "cell_type": "markdown",
   "id": "58b90072",
   "metadata": {},
   "source": [
    "# CASE STUDY 2"
   ]
  },
  {
   "cell_type": "code",
   "execution_count": 9,
   "id": "9bbe6a27",
   "metadata": {},
   "outputs": [
    {
     "name": "stdout",
     "output_type": "stream",
     "text": [
      "Total numbers in List:4\n",
      "Enter number2\n",
      "Enter number8\n",
      "Enter number4\n",
      "Enter number9\n",
      "Sum of elements in given list is : 23\n"
     ]
    }
   ],
   "source": [
    "lst = []\n",
    "total = int(input('Total numbers in List:'))\n",
    "\n",
    "for num in range(total):\n",
    "    num = int(input('Enter number'))\n",
    "    lst.append(num)\n",
    "\n",
    "print(\"Sum of elements in given list is :\", sum(lst))\n"
   ]
  },
  {
   "cell_type": "code",
   "execution_count": 1,
   "id": "6ae0fdcb",
   "metadata": {},
   "outputs": [
    {
     "name": "stdout",
     "output_type": "stream",
     "text": [
      "Enter string:nishana\n",
      "String is not a palindrome!\n"
     ]
    }
   ],
   "source": [
    "def is_palindrome(s):\n",
    "    if len(s) < 1:\n",
    "        return True\n",
    "    else:\n",
    "        if s[0] == s[-1]:\n",
    "            return is_palindrome(s[1:-1])\n",
    "        else:\n",
    "            return False\n",
    "a=str(input(\"Enter string:\"))\n",
    "if(is_palindrome(a)==True):\n",
    "    print(\"String is a palindrome!\")\n",
    "else:\n",
    "    print(\"String is not a palindrome!\")"
   ]
  },
  {
   "cell_type": "code",
   "execution_count": 2,
   "id": "611fc3a5",
   "metadata": {},
   "outputs": [
    {
     "name": "stdout",
     "output_type": "stream",
     "text": [
      "Enter number of terms:5\n",
      "Fibonacci sequence:\n",
      "0\n",
      "1\n",
      "1\n",
      "2\n",
      "3\n"
     ]
    }
   ],
   "source": [
    "def fibonacci(n):\n",
    "    if(n <= 1):\n",
    "        return n\n",
    "    else:\n",
    "        return(fibonacci(n-1) + fibonacci(n-2))\n",
    "n = int(input(\"Enter number of terms:\"))\n",
    "print(\"Fibonacci sequence:\")\n",
    "for i in range(n):\n",
    "    print(fibonacci(i))"
   ]
  },
  {
   "cell_type": "code",
   "execution_count": 3,
   "id": "aecb823e",
   "metadata": {},
   "outputs": [
    {
     "name": "stdout",
     "output_type": "stream",
     "text": [
      "Enter the number to print the tables for:13\n",
      "13 x 1 = 13\n",
      "13 x 2 = 26\n",
      "13 x 3 = 39\n",
      "13 x 4 = 52\n",
      "13 x 5 = 65\n",
      "13 x 6 = 78\n",
      "13 x 7 = 91\n",
      "13 x 8 = 104\n",
      "13 x 9 = 117\n",
      "13 x 10 = 130\n"
     ]
    }
   ],
   "source": [
    "n=int(input(\"Enter the number to print the tables for:\"))\n",
    "for i in range(1,11):\n",
    "    print(n,\"x\",i,\"=\",n*i)"
   ]
  },
  {
   "cell_type": "code",
   "execution_count": 4,
   "id": "29d49565",
   "metadata": {},
   "outputs": [
    {
     "name": "stdout",
     "output_type": "stream",
     "text": [
      "Enter string:nishana\n",
      "Number of vowels are:\n",
      "3\n"
     ]
    }
   ],
   "source": [
    "string=input(\"Enter string:\")\n",
    "vowels=0\n",
    "for i in string:\n",
    "      if(i=='a' or i=='e' or i=='i' or i=='o' or i=='u' or i=='A' or i=='E' or i=='I' or i=='O' or i=='U'):\n",
    "            vowels=vowels+1\n",
    "print(\"Number of vowels are:\")\n",
    "print(vowels)"
   ]
  },
  {
   "cell_type": "code",
   "execution_count": 5,
   "id": "deeb2f8c",
   "metadata": {},
   "outputs": [
    {
     "name": "stdout",
     "output_type": "stream",
     "text": [
      "Enter a String : nishana\n",
      "String after converting lower case to upper : NISHANA\n"
     ]
    }
   ],
   "source": [
    "string = input(\"Enter a String : \")\n",
    "result=''\n",
    "for i in string: \n",
    "        if i.islower():  \n",
    "            i = i.upper() \n",
    "        result += i \n",
    "print(\"String after converting lower case to upper :\",result)"
   ]
  },
  {
   "cell_type": "code",
   "execution_count": 6,
   "id": "a98ba411",
   "metadata": {},
   "outputs": [
    {
     "name": "stdout",
     "output_type": "stream",
     "text": [
      "Original list:\n",
      "[12, 0, None, 23, None, -55, 234, 89, None, 0, 6, -12]\n",
      "\n",
      "Remove None value from the said list:\n",
      "[12, 0, 23, -55, 234, 89, 0, 6, -12]\n"
     ]
    }
   ],
   "source": [
    "def remove_none(nums):\n",
    "    result = filter(lambda v: v is not None, nums)\n",
    "    return list(result)\n",
    "\n",
    "nums = [12, 0, None, 23, None, -55, 234, 89, None, 0, 6, -12]\n",
    "print(\"Original list:\")\n",
    "print(nums)\n",
    "print(\"\\nRemove None value from the said list:\")\n",
    "print(remove_none(nums))"
   ]
  },
  {
   "cell_type": "code",
   "execution_count": 7,
   "id": "a5636e81",
   "metadata": {},
   "outputs": [
    {
     "name": "stdout",
     "output_type": "stream",
     "text": [
      "The length of rectangle is:  7\n",
      "The width of rectangle is:  5\n",
      "The perimeter of rectangle is:  24\n",
      "The area of rectangle is:  35\n",
      "----------------------------------\n",
      "the volume of myParallelepipede is:  70\n"
     ]
    }
   ],
   "source": [
    "class Rectangle:\n",
    "    def __init__(self, length , width):\n",
    "        self.length = length\n",
    "        self.width = width\n",
    "    \n",
    "    def Perimeter(self):\n",
    "        return 2*(self.length + self.width)\n",
    "    \n",
    "    def Area(self):\n",
    "        return self.length*self.width   \n",
    "   \n",
    "    def display(self):\n",
    "        print(\"The length of rectangle is: \", self.length)\n",
    "        print(\"The width of rectangle is: \", self.width)\n",
    "        print(\"The perimeter of rectangle is: \", self.Perimeter())\n",
    "        print(\"The area of rectangle is: \", self.Area())\n",
    "class Parallelepipede(Rectangle):\n",
    "    def __init__(self, length, width , height):\n",
    "        Rectangle.__init__(self, length, width)\n",
    "        self.height = height\n",
    "        \n",
    "   \n",
    "    def volume(self):\n",
    "        return self.length*self.width*self.height\n",
    "        \n",
    "myRectangle = Rectangle(7 , 5)\n",
    "myRectangle.display()\n",
    "print(\"----------------------------------\")\n",
    "myParallelepipede = Parallelepipede(7 , 5 , 2)\n",
    "print(\"the volume of myParallelepipede is: \" , myParallelepipede.volume())"
   ]
  },
  {
   "cell_type": "code",
   "execution_count": 8,
   "id": "c17689c9",
   "metadata": {},
   "outputs": [
    {
     "name": "stdout",
     "output_type": "stream",
     "text": [
      "Account Number :  41296828066\n",
      "Account Name :  Nishana Sahil\n",
      "Account Balance :  52600  $\n"
     ]
    }
   ],
   "source": [
    "class BankAccount:\n",
    "    # create the constuctor with parameters: accountNumber, name and balance \n",
    "    def __init__(self,accountNumber, name, balance):\n",
    "        self.accountNumber = accountNumber\n",
    "        self.name = name\n",
    "        self.balance = balance\n",
    "        \n",
    "    # create Deposit() method\n",
    "    def Deposit(self , d ):\n",
    "        self.balance = self.balance + d\n",
    "    \n",
    "    # create Withdrawal method\n",
    "    def Withdrawal(self , w):\n",
    "        if(self.balance < w):\n",
    "            print(\"impossible operation! Insufficient balance !\")\n",
    "        else:\n",
    "            self.balance = self.balance - w\n",
    "    # create bankFees() method\n",
    "    def bankFees(self):\n",
    "        self.balance = (95/100)*self.balance\n",
    "        \n",
    "    # create display() method\n",
    "    def display(self):\n",
    "        print(\"Account Number : \" , self.accountNumber)\n",
    "        print(\"Account Name : \" , self.name)\n",
    "        print(\"Account Balance : \" , self.balance , \" $\")\n",
    "\n",
    "newAccount = BankAccount(41296828066, \"Nishana Sahil\" , 52700)\n",
    "newAccount.Withdrawal(300)\n",
    "newAccount.Deposit(200)\n",
    "newAccount.display()"
   ]
  },
  {
   "cell_type": "code",
   "execution_count": null,
   "id": "10a7182f",
   "metadata": {},
   "outputs": [],
   "source": []
  }
 ],
 "metadata": {
  "kernelspec": {
   "display_name": "Python 3 (ipykernel)",
   "language": "python",
   "name": "python3"
  },
  "language_info": {
   "codemirror_mode": {
    "name": "ipython",
    "version": 3
   },
   "file_extension": ".py",
   "mimetype": "text/x-python",
   "name": "python",
   "nbconvert_exporter": "python",
   "pygments_lexer": "ipython3",
   "version": "3.9.12"
  }
 },
 "nbformat": 4,
 "nbformat_minor": 5
}
